{
  "nbformat": 4,
  "nbformat_minor": 0,
  "metadata": {
    "colab": {
      "name": "LSTM+W2V+semEval-2016-tweets.ipynb",
      "provenance": [],
      "authorship_tag": "ABX9TyOZlUvRzKcrA1kFyV+l5LMz",
      "include_colab_link": true
    },
    "kernelspec": {
      "name": "python3",
      "display_name": "Python 3"
    },
    "language_info": {
      "name": "python"
    }
  },
  "cells": [
    {
      "cell_type": "markdown",
      "metadata": {
        "id": "view-in-github",
        "colab_type": "text"
      },
      "source": [
        "<a href=\"https://colab.research.google.com/github/Abhijitgayen/SNA_As_Msc_projects/blob/main/main_work/LSTM%2BW2V%2BsemEval_2016_tweets.ipynb\" target=\"_parent\"><img src=\"https://colab.research.google.com/assets/colab-badge.svg\" alt=\"Open In Colab\"/></a>"
      ]
    },
    {
      "cell_type": "markdown",
      "source": [
        " ## Libary_enter"
      ],
      "metadata": {
        "id": "-y0vigCPueLA"
      }
    },
    {
      "cell_type": "code",
      "execution_count": 1,
      "metadata": {
        "id": "rebbDJ30uaMu"
      },
      "outputs": [],
      "source": [
        "import tensorflow as tf\n",
        "from tensorflow.keras.layers import Dense, LSTM\n",
        "from tensorflow.keras.models import Model\n",
        "from tensorflow.keras.models import Sequential\n",
        "import numpy as np\n",
        "import pandas as pd\n",
        "\n",
        "import tensorflow_hub as hub\n",
        "import numpy as np"
      ]
    },
    {
      "cell_type": "code",
      "source": [
        "# Load Pretrained Word2Vec\n",
        "embed = hub.load(\"https://tfhub.dev/google/Wiki-words-250/2\")"
      ],
      "metadata": {
        "id": "bmIwS37husY-"
      },
      "execution_count": 2,
      "outputs": []
    },
    {
      "cell_type": "markdown",
      "source": [
        "## Some_function for prepossing"
      ],
      "metadata": {
        "id": "XXq91ml2u3Ev"
      }
    },
    {
      "cell_type": "code",
      "source": [
        "def get_max_length(df):\n",
        "    \"\"\"\n",
        "    get max token counts from train data, \n",
        "    so we use this number as fixed length input to RNN cell\n",
        "    \"\"\"\n",
        "    max_length = 0\n",
        "    for row in df['tweet']:\n",
        "        if len(row.split(\" \")) > max_length:\n",
        "            max_length = len(row.split(\" \"))\n",
        "    return max_length\n",
        "\n",
        "def get_word2vec_enc(reviews):\n",
        "    \"\"\"\n",
        "    get word2vec value for each word in sentence.\n",
        "    concatenate word in numpy array, so we can use it as RNN input\n",
        "    \"\"\"\n",
        "    encoded_reviews = []\n",
        "    for review in reviews:\n",
        "        tokens = review.split(\" \")\n",
        "        word2vec_embedding = embed(tokens)\n",
        "        encoded_reviews.append(word2vec_embedding)\n",
        "    return encoded_reviews\n",
        "        \n",
        "def get_padded_encoded_reviews(encoded_reviews):\n",
        "    \"\"\"\n",
        "    for short sentences, we prepend zero padding so all input to RNN has same length\n",
        "    \"\"\"\n",
        "    padded_reviews_encoding = []\n",
        "    for enc_review in encoded_reviews:\n",
        "        zero_padding_cnt = max_length - enc_review.shape[0]\n",
        "        pad = np.zeros((1, 250))\n",
        "        for i in range(zero_padding_cnt):\n",
        "            enc_review = np.concatenate((pad, enc_review), axis=0)\n",
        "        padded_reviews_encoding.append(enc_review)\n",
        "    return padded_reviews_encoding\n",
        "\n",
        "def sentiment_encode(sentiment):\n",
        "    \"\"\"\n",
        "    return one hot encoding for Y value\n",
        "    \"\"\"\n",
        "    if sentiment == 'positive':\n",
        "        return [1,0]\n",
        "    if sentiment == 'neutral':\n",
        "        return [0.5,0.5]\n",
        "    else:\n",
        "        return [0,1]\n",
        "    \n",
        "def preprocess(df):\n",
        "    \"\"\"\n",
        "    encode text value to numeric value\n",
        "    \"\"\"\n",
        "    # encode words into word2vec\n",
        "    reviews = df['tweet'].tolist()\n",
        "    \n",
        "    encoded_reviews = get_word2vec_enc(reviews)\n",
        "    padded_encoded_reviews = get_padded_encoded_reviews(encoded_reviews)\n",
        "    # encoded sentiment\n",
        "    sentiments = df['label'].tolist()\n",
        "    encoded_sentiment = [sentiment_encode(sentiment) for sentiment in sentiments]\n",
        "    X = np.array(padded_encoded_reviews)\n",
        "    Y = np.array(encoded_sentiment)\n",
        "    return X, Y "
      ],
      "metadata": {
        "id": "c3hq3ITYu3f7"
      },
      "execution_count": 3,
      "outputs": []
    },
    {
      "cell_type": "markdown",
      "source": [
        "## Data_Set_add"
      ],
      "metadata": {
        "id": "m2FFiMpFu_sS"
      }
    },
    {
      "cell_type": "code",
      "source": [
        "from google.colab import drive\n",
        "drive.mount('/content/drive')"
      ],
      "metadata": {
        "colab": {
          "base_uri": "https://localhost:8080/"
        },
        "id": "CzWBbb2MvAGE",
        "outputId": "ec286f51-bfa2-4021-f112-e7d195c908ea"
      },
      "execution_count": 4,
      "outputs": [
        {
          "output_type": "stream",
          "name": "stdout",
          "text": [
            "Mounted at /content/drive\n"
          ]
        }
      ]
    },
    {
      "cell_type": "code",
      "source": [
        "tweetsDatas=pd.read_csv('/content/drive/MyDrive/2017_data_set/dataset/train/twitter-2016dev-A.txt', sep=\"\\t\", header=None, names=[\"id\",\"label\", \"tweet\"]); #skiping these two rows as they have some bad data\n",
        "testData=pd.read_csv('/content/drive/MyDrive/2017_data_set/dataset/train/twitter-2016devtest-A.txt',sep=\"\\t\", header=None, names=[\"id\",\"label\", \"tweet\"]); #test_data"
      ],
      "metadata": {
        "id": "WYt4dEcuvIr9"
      },
      "execution_count": 5,
      "outputs": []
    },
    {
      "cell_type": "code",
      "source": [
        "print(tweetsDatas.head())\n",
        "print(tweetsDatas.label.value_counts())\n",
        "print(testData.head())\n",
        "print(testData.label.value_counts())"
      ],
      "metadata": {
        "colab": {
          "base_uri": "https://localhost:8080/"
        },
        "id": "m3SX5i0HvKlC",
        "outputId": "57b6721a-3ae7-4e8a-8125-de18c3bed184"
      },
      "execution_count": 10,
      "outputs": [
        {
          "output_type": "stream",
          "name": "stdout",
          "text": [
            "                   id     label  \\\n",
            "0  638060586258038784   neutral   \n",
            "1  638061181823922176  positive   \n",
            "2  638083821364244480   neutral   \n",
            "3  638091450132078593  positive   \n",
            "4  638125563790557184  positive   \n",
            "\n",
            "                                               tweet  \n",
            "0  05 Beat it - Michael Jackson - Thriller (25th ...  \n",
            "1  Jay Z joins Instagram with nostalgic tribute t...  \n",
            "2  Michael Jackson: Bad 25th Anniversary Edition ...  \n",
            "3  I liked a @YouTube video http://t.co/AaR3pjp2P...  \n",
            "4  18th anniv of Princess Diana's death. I still ...  \n",
            "positive    829\n",
            "neutral     746\n",
            "negative    391\n",
            "Name: label, dtype: int64\n",
            "                   id     label  \\\n",
            "0  637641175948763136   neutral   \n",
            "1  637651487762554881   neutral   \n",
            "2  637666734300905472  negative   \n",
            "3  637668142110654468   neutral   \n",
            "4  637708370129125377  positive   \n",
            "\n",
            "                                               tweet  \n",
            "0  @SeeMonterey LOST - Sony cell phone with holid...  \n",
            "1  @PersonaSoda well yeah, that's third parties. ...  \n",
            "2  Sony rewards app is like a lot of 19 y.o femal...  \n",
            "3  @fakethom Have android tab and don't use phone...  \n",
            "4  Finally I get my ps4 back I sent it to Sony ca...  \n",
            "positive    994\n",
            "neutral     681\n",
            "negative    325\n",
            "Name: label, dtype: int64\n"
          ]
        }
      ]
    },
    {
      "cell_type": "code",
      "source": [
        "df=tweetsDatas\n",
        "# max_length is used for max sequence of input\n",
        "df=df.drop(1829,axis='rows')\n",
        "max_length = get_max_length(df)\n",
        "print(max_length)\n",
        "\n",
        "train_X, train_Y = preprocess(df)"
      ],
      "metadata": {
        "colab": {
          "base_uri": "https://localhost:8080/"
        },
        "id": "Maz3Wd7pvY85",
        "outputId": "3800829a-35a9-444e-8808-eb92209a47f2"
      },
      "execution_count": 6,
      "outputs": [
        {
          "output_type": "stream",
          "name": "stdout",
          "text": [
            "31\n"
          ]
        }
      ]
    },
    {
      "cell_type": "markdown",
      "source": [
        "## ALL_models"
      ],
      "metadata": {
        "id": "h4UnyOYKvjdg"
      }
    },
    {
      "cell_type": "code",
      "source": [
        "# LSTM model\n",
        "model = Sequential()\n",
        "model.add(LSTM(128))\n",
        "model.add(Dense(2, activation='softmax'))\n",
        "model.compile(loss='categorical_crossentropy',\n",
        "              optimizer='adam',\n",
        "              metrics=['accuracy'])"
      ],
      "metadata": {
        "id": "ByW-tyGuvhUo"
      },
      "execution_count": 7,
      "outputs": []
    },
    {
      "cell_type": "code",
      "source": [
        "# LSTM model\n",
        "model = Sequential()\n",
        "model.add(LSTM(128))\n",
        "model.add(Dense(2, activation='softmax'))\n",
        "model.compile(loss='categorical_crossentropy',\n",
        "              optimizer='adam',\n",
        "              metrics=['accuracy'])"
      ],
      "metadata": {
        "id": "ugV0lpT2wJud"
      },
      "execution_count": null,
      "outputs": []
    },
    {
      "cell_type": "markdown",
      "source": [
        "## train Models"
      ],
      "metadata": {
        "id": "5DXCJAYvv3if"
      }
    },
    {
      "cell_type": "code",
      "source": [
        "print('Train...')\n",
        "model.fit(train_X, train_Y,epochs=100)"
      ],
      "metadata": {
        "colab": {
          "base_uri": "https://localhost:8080/"
        },
        "id": "AGFxF_HNvofQ",
        "outputId": "d0347173-3c07-4347-fc0d-0b1ad6853ca6"
      },
      "execution_count": 8,
      "outputs": [
        {
          "output_type": "stream",
          "name": "stdout",
          "text": [
            "Train...\n",
            "Epoch 1/100\n",
            "62/62 [==============================] - 6s 58ms/step - loss: 0.6332 - accuracy: 0.7654\n",
            "Epoch 2/100\n",
            "62/62 [==============================] - 4s 57ms/step - loss: 0.6025 - accuracy: 0.7623\n",
            "Epoch 3/100\n",
            "62/62 [==============================] - 4s 59ms/step - loss: 0.5928 - accuracy: 0.7634\n",
            "Epoch 4/100\n",
            "62/62 [==============================] - 4s 58ms/step - loss: 0.5775 - accuracy: 0.7644\n",
            "Epoch 5/100\n",
            "62/62 [==============================] - 4s 60ms/step - loss: 0.5664 - accuracy: 0.7710\n",
            "Epoch 6/100\n",
            "62/62 [==============================] - 5s 79ms/step - loss: 0.5656 - accuracy: 0.7573\n",
            "Epoch 7/100\n",
            "62/62 [==============================] - 4s 62ms/step - loss: 0.5535 - accuracy: 0.7567\n",
            "Epoch 8/100\n",
            "62/62 [==============================] - 4s 72ms/step - loss: 0.5512 - accuracy: 0.7690\n",
            "Epoch 9/100\n",
            "62/62 [==============================] - 5s 77ms/step - loss: 0.5392 - accuracy: 0.7649\n",
            "Epoch 10/100\n",
            "62/62 [==============================] - 4s 70ms/step - loss: 0.5348 - accuracy: 0.7725\n",
            "Epoch 11/100\n",
            "62/62 [==============================] - 3s 54ms/step - loss: 0.5299 - accuracy: 0.7771\n",
            "Epoch 12/100\n",
            "62/62 [==============================] - 3s 54ms/step - loss: 0.5269 - accuracy: 0.7756\n",
            "Epoch 13/100\n",
            "62/62 [==============================] - 3s 54ms/step - loss: 0.5124 - accuracy: 0.7766\n",
            "Epoch 14/100\n",
            "62/62 [==============================] - 3s 54ms/step - loss: 0.5027 - accuracy: 0.7842\n",
            "Epoch 15/100\n",
            "62/62 [==============================] - 4s 67ms/step - loss: 0.5006 - accuracy: 0.8000\n",
            "Epoch 16/100\n",
            "62/62 [==============================] - 4s 59ms/step - loss: 0.4898 - accuracy: 0.7929\n",
            "Epoch 17/100\n",
            "62/62 [==============================] - 3s 56ms/step - loss: 0.4811 - accuracy: 0.7913\n",
            "Epoch 18/100\n",
            "62/62 [==============================] - 3s 54ms/step - loss: 0.4770 - accuracy: 0.7903\n",
            "Epoch 19/100\n",
            "62/62 [==============================] - 4s 58ms/step - loss: 0.4656 - accuracy: 0.8020\n",
            "Epoch 20/100\n",
            "62/62 [==============================] - 3s 53ms/step - loss: 0.4643 - accuracy: 0.8041\n",
            "Epoch 21/100\n",
            "62/62 [==============================] - 4s 60ms/step - loss: 0.4462 - accuracy: 0.8025\n",
            "Epoch 22/100\n",
            "62/62 [==============================] - 4s 61ms/step - loss: 0.4501 - accuracy: 0.7939\n",
            "Epoch 23/100\n",
            "62/62 [==============================] - 3s 56ms/step - loss: 0.4323 - accuracy: 0.8056\n",
            "Epoch 24/100\n",
            "62/62 [==============================] - 3s 53ms/step - loss: 0.4209 - accuracy: 0.8066\n",
            "Epoch 25/100\n",
            "62/62 [==============================] - 3s 55ms/step - loss: 0.4148 - accuracy: 0.8142\n",
            "Epoch 26/100\n",
            "62/62 [==============================] - 3s 52ms/step - loss: 0.4050 - accuracy: 0.7969\n",
            "Epoch 27/100\n",
            "62/62 [==============================] - 4s 59ms/step - loss: 0.3972 - accuracy: 0.8056\n",
            "Epoch 28/100\n",
            "62/62 [==============================] - 3s 56ms/step - loss: 0.3879 - accuracy: 0.8046\n",
            "Epoch 29/100\n",
            "62/62 [==============================] - 3s 53ms/step - loss: 0.3851 - accuracy: 0.8163\n",
            "Epoch 30/100\n",
            "62/62 [==============================] - 3s 53ms/step - loss: 0.3805 - accuracy: 0.8107\n",
            "Epoch 31/100\n",
            "62/62 [==============================] - 3s 53ms/step - loss: 0.3570 - accuracy: 0.8168\n",
            "Epoch 32/100\n",
            "62/62 [==============================] - 3s 53ms/step - loss: 0.3567 - accuracy: 0.8132\n",
            "Epoch 33/100\n",
            "62/62 [==============================] - 3s 54ms/step - loss: 0.3503 - accuracy: 0.8163\n",
            "Epoch 34/100\n",
            "62/62 [==============================] - 3s 53ms/step - loss: 0.3419 - accuracy: 0.8204\n",
            "Epoch 35/100\n",
            "62/62 [==============================] - 3s 54ms/step - loss: 0.3370 - accuracy: 0.8153\n",
            "Epoch 36/100\n",
            "62/62 [==============================] - 4s 57ms/step - loss: 0.3356 - accuracy: 0.8214\n",
            "Epoch 37/100\n",
            "62/62 [==============================] - 3s 55ms/step - loss: 0.3271 - accuracy: 0.8107\n",
            "Epoch 38/100\n",
            "62/62 [==============================] - 3s 55ms/step - loss: 0.3271 - accuracy: 0.8127\n",
            "Epoch 39/100\n",
            "62/62 [==============================] - 3s 56ms/step - loss: 0.3237 - accuracy: 0.8214\n",
            "Epoch 40/100\n",
            "62/62 [==============================] - 3s 53ms/step - loss: 0.3237 - accuracy: 0.8153\n",
            "Epoch 41/100\n",
            "62/62 [==============================] - 3s 54ms/step - loss: 0.3185 - accuracy: 0.8137\n",
            "Epoch 42/100\n",
            "62/62 [==============================] - 4s 58ms/step - loss: 0.3100 - accuracy: 0.8081\n",
            "Epoch 43/100\n",
            "62/62 [==============================] - 3s 56ms/step - loss: 0.3054 - accuracy: 0.8051\n",
            "Epoch 44/100\n",
            "62/62 [==============================] - 4s 57ms/step - loss: 0.3042 - accuracy: 0.8041\n",
            "Epoch 45/100\n",
            "62/62 [==============================] - 4s 62ms/step - loss: 0.3046 - accuracy: 0.8153\n",
            "Epoch 46/100\n",
            "62/62 [==============================] - 4s 72ms/step - loss: 0.3059 - accuracy: 0.8000\n",
            "Epoch 47/100\n",
            "62/62 [==============================] - 4s 62ms/step - loss: 0.3028 - accuracy: 0.8081\n",
            "Epoch 48/100\n",
            "62/62 [==============================] - 4s 66ms/step - loss: 0.2984 - accuracy: 0.8087\n",
            "Epoch 49/100\n",
            "62/62 [==============================] - 5s 73ms/step - loss: 0.2983 - accuracy: 0.8041\n",
            "Epoch 50/100\n",
            "62/62 [==============================] - 4s 71ms/step - loss: 0.2951 - accuracy: 0.8117\n",
            "Epoch 51/100\n",
            "62/62 [==============================] - 4s 69ms/step - loss: 0.2951 - accuracy: 0.8025\n",
            "Epoch 52/100\n",
            "62/62 [==============================] - 4s 61ms/step - loss: 0.2894 - accuracy: 0.8132\n",
            "Epoch 53/100\n",
            "62/62 [==============================] - 3s 54ms/step - loss: 0.2958 - accuracy: 0.8122\n",
            "Epoch 54/100\n",
            "62/62 [==============================] - 4s 62ms/step - loss: 0.2967 - accuracy: 0.8148\n",
            "Epoch 55/100\n",
            "62/62 [==============================] - 4s 64ms/step - loss: 0.2942 - accuracy: 0.8010\n",
            "Epoch 56/100\n",
            "62/62 [==============================] - 6s 102ms/step - loss: 0.2902 - accuracy: 0.8132\n",
            "Epoch 57/100\n",
            "62/62 [==============================] - 5s 81ms/step - loss: 0.2900 - accuracy: 0.8015\n",
            "Epoch 58/100\n",
            "62/62 [==============================] - 4s 61ms/step - loss: 0.2876 - accuracy: 0.8092\n",
            "Epoch 59/100\n",
            "62/62 [==============================] - 3s 55ms/step - loss: 0.2842 - accuracy: 0.8107\n",
            "Epoch 60/100\n",
            "62/62 [==============================] - 3s 56ms/step - loss: 0.2827 - accuracy: 0.8239\n",
            "Epoch 61/100\n",
            "62/62 [==============================] - 4s 61ms/step - loss: 0.2841 - accuracy: 0.8051\n",
            "Epoch 62/100\n",
            "62/62 [==============================] - 4s 61ms/step - loss: 0.2802 - accuracy: 0.8153\n",
            "Epoch 63/100\n",
            "62/62 [==============================] - 3s 55ms/step - loss: 0.2815 - accuracy: 0.8092\n",
            "Epoch 64/100\n",
            "62/62 [==============================] - 3s 55ms/step - loss: 0.2775 - accuracy: 0.8015\n",
            "Epoch 65/100\n",
            "62/62 [==============================] - 3s 56ms/step - loss: 0.2797 - accuracy: 0.8010\n",
            "Epoch 66/100\n",
            "62/62 [==============================] - 4s 63ms/step - loss: 0.2842 - accuracy: 0.8137\n",
            "Epoch 67/100\n",
            "62/62 [==============================] - 4s 57ms/step - loss: 0.2839 - accuracy: 0.8183\n",
            "Epoch 68/100\n",
            "62/62 [==============================] - 4s 59ms/step - loss: 0.2807 - accuracy: 0.8097\n",
            "Epoch 69/100\n",
            "62/62 [==============================] - 4s 63ms/step - loss: 0.2800 - accuracy: 0.8000\n",
            "Epoch 70/100\n",
            "62/62 [==============================] - 4s 62ms/step - loss: 0.2803 - accuracy: 0.8097\n",
            "Epoch 71/100\n",
            "62/62 [==============================] - 4s 60ms/step - loss: 0.2825 - accuracy: 0.8132\n",
            "Epoch 72/100\n",
            "62/62 [==============================] - 4s 61ms/step - loss: 0.2797 - accuracy: 0.8081\n",
            "Epoch 73/100\n",
            "62/62 [==============================] - 4s 57ms/step - loss: 0.2798 - accuracy: 0.8122\n",
            "Epoch 74/100\n",
            "62/62 [==============================] - 4s 57ms/step - loss: 0.2822 - accuracy: 0.8173\n",
            "Epoch 75/100\n",
            "62/62 [==============================] - 3s 55ms/step - loss: 0.2824 - accuracy: 0.8102\n",
            "Epoch 76/100\n",
            "62/62 [==============================] - 3s 56ms/step - loss: 0.2754 - accuracy: 0.8102\n",
            "Epoch 77/100\n",
            "62/62 [==============================] - 3s 55ms/step - loss: 0.2728 - accuracy: 0.8056\n",
            "Epoch 78/100\n",
            "62/62 [==============================] - 3s 56ms/step - loss: 0.2712 - accuracy: 0.8158\n",
            "Epoch 79/100\n",
            "62/62 [==============================] - 4s 62ms/step - loss: 0.2732 - accuracy: 0.8127\n",
            "Epoch 80/100\n",
            "62/62 [==============================] - 4s 61ms/step - loss: 0.2757 - accuracy: 0.7990\n",
            "Epoch 81/100\n",
            "62/62 [==============================] - 4s 61ms/step - loss: 0.2787 - accuracy: 0.8239\n",
            "Epoch 82/100\n",
            "62/62 [==============================] - 4s 58ms/step - loss: 0.2911 - accuracy: 0.8031\n",
            "Epoch 83/100\n",
            "62/62 [==============================] - 3s 56ms/step - loss: 0.2941 - accuracy: 0.8168\n",
            "Epoch 84/100\n",
            "62/62 [==============================] - 4s 61ms/step - loss: 0.2806 - accuracy: 0.8092\n",
            "Epoch 85/100\n",
            "62/62 [==============================] - 4s 57ms/step - loss: 0.2745 - accuracy: 0.8076\n",
            "Epoch 86/100\n",
            "62/62 [==============================] - 3s 55ms/step - loss: 0.2714 - accuracy: 0.8102\n",
            "Epoch 87/100\n",
            "62/62 [==============================] - 3s 54ms/step - loss: 0.2707 - accuracy: 0.8046\n",
            "Epoch 88/100\n",
            "62/62 [==============================] - 4s 57ms/step - loss: 0.2742 - accuracy: 0.8020\n",
            "Epoch 89/100\n",
            "62/62 [==============================] - 4s 62ms/step - loss: 0.2731 - accuracy: 0.7893\n",
            "Epoch 90/100\n",
            "62/62 [==============================] - 3s 56ms/step - loss: 0.2700 - accuracy: 0.8132\n",
            "Epoch 91/100\n",
            "62/62 [==============================] - 4s 57ms/step - loss: 0.2686 - accuracy: 0.8148\n",
            "Epoch 92/100\n",
            "62/62 [==============================] - 4s 63ms/step - loss: 0.2675 - accuracy: 0.8137\n",
            "Epoch 93/100\n",
            "62/62 [==============================] - 4s 57ms/step - loss: 0.2695 - accuracy: 0.8153\n",
            "Epoch 94/100\n",
            "62/62 [==============================] - 4s 62ms/step - loss: 0.2695 - accuracy: 0.8112\n",
            "Epoch 95/100\n",
            "62/62 [==============================] - 4s 64ms/step - loss: 0.2676 - accuracy: 0.8117\n",
            "Epoch 96/100\n",
            "62/62 [==============================] - 4s 64ms/step - loss: 0.2668 - accuracy: 0.8056\n",
            "Epoch 97/100\n",
            "62/62 [==============================] - 4s 61ms/step - loss: 0.2666 - accuracy: 0.8209\n",
            "Epoch 98/100\n",
            "62/62 [==============================] - 4s 59ms/step - loss: 0.2719 - accuracy: 0.8117\n",
            "Epoch 99/100\n",
            "62/62 [==============================] - 4s 62ms/step - loss: 0.2972 - accuracy: 0.8158\n",
            "Epoch 100/100\n",
            "62/62 [==============================] - 4s 62ms/step - loss: 0.3521 - accuracy: 0.8305\n"
          ]
        },
        {
          "output_type": "execute_result",
          "data": {
            "text/plain": [
              "<keras.callbacks.History at 0x7f92f0ff4d10>"
            ]
          },
          "metadata": {},
          "execution_count": 8
        }
      ]
    },
    {
      "cell_type": "code",
      "source": [
        "test_df=testData\n",
        "print(test_df.label.value_counts())\n",
        "max_length = get_max_length(test_df)\n",
        "test_X, test_Y = preprocess(test_df)\n",
        "\n",
        "score, acc = model.evaluate(test_X, test_Y, verbose=2)\n",
        "print('Test score:', score)\n",
        "print('Test accuracy:', acc)"
      ],
      "metadata": {
        "colab": {
          "base_uri": "https://localhost:8080/"
        },
        "id": "_lb9dxHcvo0G",
        "outputId": "122f1ad5-8eea-4fa1-ea06-60c072926947"
      },
      "execution_count": 9,
      "outputs": [
        {
          "output_type": "stream",
          "name": "stdout",
          "text": [
            "positive    994\n",
            "neutral     681\n",
            "negative    325\n",
            "Name: label, dtype: int64\n",
            "63/63 - 2s - loss: 1.1565 - accuracy: 0.6800 - 2s/epoch - 34ms/step\n",
            "Test score: 1.1564884185791016\n",
            "Test accuracy: 0.6800000071525574\n"
          ]
        }
      ]
    }
  ]
}