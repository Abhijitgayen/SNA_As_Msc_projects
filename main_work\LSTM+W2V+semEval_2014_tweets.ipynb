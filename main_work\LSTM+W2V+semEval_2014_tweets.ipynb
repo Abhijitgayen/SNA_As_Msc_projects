{
  "nbformat": 4,
  "nbformat_minor": 0,
  "metadata": {
    "colab": {
      "name": "LSTM+W2V+semEval-2014-tweets.ipynb",
      "provenance": [],
      "authorship_tag": "ABX9TyOCrDUDliByGyIpezTmCoRS",
      "include_colab_link": true
    },
    "kernelspec": {
      "name": "python3",
      "display_name": "Python 3"
    },
    "language_info": {
      "name": "python"
    }
  },
  "cells": [
    {
      "cell_type": "markdown",
      "metadata": {
        "id": "view-in-github",
        "colab_type": "text"
      },
      "source": [
        "<a href=\"https://colab.research.google.com/github/Abhijitgayen/SNA_As_Msc_projects/blob/main/main_work%5CLSTM%2BW2V%2BsemEval_2014_tweets.ipynb\" target=\"_parent\"><img src=\"https://colab.research.google.com/assets/colab-badge.svg\" alt=\"Open In Colab\"/></a>"
      ]
    },
    {
      "cell_type": "markdown",
      "source": [
        " ## Libary_enter"
      ],
      "metadata": {
        "id": "-y0vigCPueLA"
      }
    },
    {
      "cell_type": "code",
      "execution_count": 1,
      "metadata": {
        "id": "rebbDJ30uaMu"
      },
      "outputs": [],
      "source": [
        "import tensorflow as tf\n",
        "from tensorflow.keras.layers import Dense, LSTM\n",
        "from tensorflow.keras.models import Model\n",
        "from tensorflow.keras.models import Sequential\n",
        "import numpy as np\n",
        "import pandas as pd\n",
        "\n",
        "import tensorflow_hub as hub\n",
        "import numpy as np"
      ]
    },
    {
      "cell_type": "code",
      "source": [
        "# Load Pretrained Word2Vec\n",
        "embed = hub.load(\"https://tfhub.dev/google/Wiki-words-250/2\")"
      ],
      "metadata": {
        "id": "bmIwS37husY-"
      },
      "execution_count": 2,
      "outputs": []
    },
    {
      "cell_type": "markdown",
      "source": [
        "## Some_function for prepossing"
      ],
      "metadata": {
        "id": "XXq91ml2u3Ev"
      }
    },
    {
      "cell_type": "code",
      "source": [
        "def get_max_length(df):\n",
        "    \"\"\"\n",
        "    get max token counts from train data, \n",
        "    so we use this number as fixed length input to RNN cell\n",
        "    \"\"\"\n",
        "    max_length = 0\n",
        "    for row in df['tweet']:\n",
        "        if len(row.split(\" \")) > max_length:\n",
        "            max_length = len(row.split(\" \"))\n",
        "    return max_length\n",
        "\n",
        "def get_word2vec_enc(reviews):\n",
        "    \"\"\"\n",
        "    get word2vec value for each word in sentence.\n",
        "    concatenate word in numpy array, so we can use it as RNN input\n",
        "    \"\"\"\n",
        "    encoded_reviews = []\n",
        "    for review in reviews:\n",
        "        tokens = review.split(\" \")\n",
        "        word2vec_embedding = embed(tokens)\n",
        "        encoded_reviews.append(word2vec_embedding)\n",
        "    return encoded_reviews\n",
        "        \n",
        "def get_padded_encoded_reviews(encoded_reviews):\n",
        "    \"\"\"\n",
        "    for short sentences, we prepend zero padding so all input to RNN has same length\n",
        "    \"\"\"\n",
        "    padded_reviews_encoding = []\n",
        "    for enc_review in encoded_reviews:\n",
        "        zero_padding_cnt = max_length - enc_review.shape[0]\n",
        "        pad = np.zeros((1, 250))\n",
        "        for i in range(zero_padding_cnt):\n",
        "            enc_review = np.concatenate((pad, enc_review), axis=0)\n",
        "        padded_reviews_encoding.append(enc_review)\n",
        "    return padded_reviews_encoding\n",
        "\n",
        "def sentiment_encode(sentiment):\n",
        "    \"\"\"\n",
        "    return one hot encoding for Y value\n",
        "    \"\"\"\n",
        "    if sentiment == 'positive':\n",
        "        return [1,0]\n",
        "    if sentiment == 'neutral':\n",
        "        return [0.5,0.5]\n",
        "    else:\n",
        "        return [0,1]\n",
        "    \n",
        "def preprocess(df):\n",
        "    \"\"\"\n",
        "    encode text value to numeric value\n",
        "    \"\"\"\n",
        "    # encode words into word2vec\n",
        "    reviews = df['tweet'].tolist()\n",
        "    \n",
        "    encoded_reviews = get_word2vec_enc(reviews)\n",
        "    padded_encoded_reviews = get_padded_encoded_reviews(encoded_reviews)\n",
        "    # encoded sentiment\n",
        "    sentiments = df['label'].tolist()\n",
        "    encoded_sentiment = [sentiment_encode(sentiment) for sentiment in sentiments]\n",
        "    X = np.array(padded_encoded_reviews)\n",
        "    Y = np.array(encoded_sentiment)\n",
        "    return X, Y "
      ],
      "metadata": {
        "id": "c3hq3ITYu3f7"
      },
      "execution_count": 3,
      "outputs": []
    },
    {
      "cell_type": "markdown",
      "source": [
        "## Data_Set_add"
      ],
      "metadata": {
        "id": "m2FFiMpFu_sS"
      }
    },
    {
      "cell_type": "code",
      "source": [
        "from google.colab import drive\n",
        "drive.mount('/content/drive')"
      ],
      "metadata": {
        "colab": {
          "base_uri": "https://localhost:8080/"
        },
        "id": "CzWBbb2MvAGE",
        "outputId": "ec286f51-bfa2-4021-f112-e7d195c908ea"
      },
      "execution_count": 4,
      "outputs": [
        {
          "output_type": "stream",
          "name": "stdout",
          "text": [
            "Mounted at /content/drive\n"
          ]
        }
      ]
    },
    {
      "cell_type": "code",
      "source": [
        "tweetsDatas=pd.read_csv('/content/drive/MyDrive/2017_data_set/dataset/train/twitter-2015train-A.txt', sep=\"\\t\", header=None, names=[\"id\",\"label\", \"tweet\"]); #skiping these two rows as they have some bad data\n",
        "testData=pd.read_csv('/content/drive/MyDrive/2017_data_set/dataset/train/twitter-2015test-A.txt',sep=\"\\t\", header=None, names=[\"id\",\"label\", \"tweet\"]); #test_data"
      ],
      "metadata": {
        "id": "WYt4dEcuvIr9"
      },
      "execution_count": 11,
      "outputs": []
    },
    {
      "cell_type": "code",
      "source": [
        "print(tweetsDatas.head())\n",
        "print(tweetsDatas.label.value_counts())\n",
        "print(testData.head())\n",
        "print(testData.label.value_counts())"
      ],
      "metadata": {
        "colab": {
          "base_uri": "https://localhost:8080/"
        },
        "id": "m3SX5i0HvKlC",
        "outputId": "3f4e195a-3b75-4ea1-b86d-120775e01917"
      },
      "execution_count": 12,
      "outputs": [
        {
          "output_type": "stream",
          "name": "stdout",
          "text": [
            "                   id     label  \\\n",
            "0  105121481662541824  negative   \n",
            "1  104319460143415296  negative   \n",
            "2  103641916586999808   neutral   \n",
            "3  100544750414864384   neutral   \n",
            "4  102220476499243008   neutral   \n",
            "\n",
            "                                               tweet  \n",
            "0  I forgot how sad the first episode of the 5th ...  \n",
            "1  Oct. 2 is almost too far away for me to wait f...  \n",
            "2  (OFF TOPIC) - there is only 3 episodes on the ...  \n",
            "3  @iheardavoicesay is finally catching up to me ...  \n",
            "4  I downloaded the first season of #Dexter, gonn...  \n",
            "neutral     253\n",
            "positive    170\n",
            "negative     66\n",
            "Name: label, dtype: int64\n",
            "                   id     label  \\\n",
            "0  520829332525441024  negative   \n",
            "1  522931511323275264  positive   \n",
            "2  523099837936312321  positive   \n",
            "3  521384413217959937  positive   \n",
            "4  523076584497229824  positive   \n",
            "\n",
            "                                               tweet  \n",
            "0  Saturday without Leeds United is like Sunday w...  \n",
            "1  Catch Rainbow Valley at the @CBC #IMAF2014 Gal...  \n",
            "2  @NiklaklePinkel it doesn't really count, I was...  \n",
            "3  #BEARDOWN Wish us luck...we may need it. (@ Ge...  \n",
            "4  We're so excited to be part of the Still We Ri...  \n",
            "positive    1038\n",
            "neutral      987\n",
            "negative     365\n",
            "Name: label, dtype: int64\n"
          ]
        }
      ]
    },
    {
      "cell_type": "code",
      "source": [
        "df=tweetsDatas\n",
        "# max_length is used for max sequence of input\n",
        "max_length = get_max_length(df)\n",
        "print(max_length)\n",
        "\n",
        "train_X, train_Y = preprocess(df)"
      ],
      "metadata": {
        "colab": {
          "base_uri": "https://localhost:8080/"
        },
        "id": "Maz3Wd7pvY85",
        "outputId": "52e4178d-f7f6-4942-eee4-5afe4f4f93ad"
      },
      "execution_count": 14,
      "outputs": [
        {
          "output_type": "stream",
          "name": "stdout",
          "text": [
            "31\n"
          ]
        }
      ]
    },
    {
      "cell_type": "markdown",
      "source": [
        "## ALL_models"
      ],
      "metadata": {
        "id": "h4UnyOYKvjdg"
      }
    },
    {
      "cell_type": "code",
      "source": [
        "# LSTM model\n",
        "model = Sequential()\n",
        "model.add(LSTM(128))\n",
        "model.add(Dense(2, activation='softmax'))\n",
        "model.compile(loss='categorical_crossentropy',\n",
        "              optimizer='adam',\n",
        "              metrics=['accuracy'])"
      ],
      "metadata": {
        "id": "ByW-tyGuvhUo"
      },
      "execution_count": 7,
      "outputs": []
    },
    {
      "cell_type": "code",
      "source": [
        "# LSTM model\n",
        "model = Sequential()\n",
        "model.add(LSTM(128))\n",
        "model.add(Dense(2, activation='softmax'))\n",
        "model.compile(loss='categorical_crossentropy',\n",
        "              optimizer='adam',\n",
        "              metrics=['accuracy'])"
      ],
      "metadata": {
        "id": "ugV0lpT2wJud"
      },
      "execution_count": null,
      "outputs": []
    },
    {
      "cell_type": "markdown",
      "source": [
        "## train Models"
      ],
      "metadata": {
        "id": "5DXCJAYvv3if"
      }
    },
    {
      "cell_type": "code",
      "source": [
        "print('Train...')\n",
        "model.fit(train_X, train_Y,epochs=100)"
      ],
      "metadata": {
        "colab": {
          "base_uri": "https://localhost:8080/"
        },
        "id": "AGFxF_HNvofQ",
        "outputId": "122dc035-8d89-4585-a547-b7aaa9aa8c15"
      },
      "execution_count": 15,
      "outputs": [
        {
          "output_type": "stream",
          "name": "stdout",
          "text": [
            "Train...\n",
            "Epoch 1/100\n",
            "16/16 [==============================] - 1s 57ms/step - loss: 0.7460 - accuracy: 0.7342\n",
            "Epoch 2/100\n",
            "16/16 [==============================] - 1s 53ms/step - loss: 0.6645 - accuracy: 0.8057\n",
            "Epoch 3/100\n",
            "16/16 [==============================] - 1s 53ms/step - loss: 0.6460 - accuracy: 0.8446\n",
            "Epoch 4/100\n",
            "16/16 [==============================] - 1s 55ms/step - loss: 0.6606 - accuracy: 0.7812\n",
            "Epoch 5/100\n",
            "16/16 [==============================] - 1s 53ms/step - loss: 0.6364 - accuracy: 0.8037\n",
            "Epoch 6/100\n",
            "16/16 [==============================] - 1s 53ms/step - loss: 0.6296 - accuracy: 0.8200\n",
            "Epoch 7/100\n",
            "16/16 [==============================] - 1s 54ms/step - loss: 0.6191 - accuracy: 0.8098\n",
            "Epoch 8/100\n",
            "16/16 [==============================] - 1s 53ms/step - loss: 0.6106 - accuracy: 0.8200\n",
            "Epoch 9/100\n",
            "16/16 [==============================] - 1s 52ms/step - loss: 0.5989 - accuracy: 0.8282\n",
            "Epoch 10/100\n",
            "16/16 [==============================] - 1s 55ms/step - loss: 0.5860 - accuracy: 0.8323\n",
            "Epoch 11/100\n",
            "16/16 [==============================] - 1s 54ms/step - loss: 0.5746 - accuracy: 0.8119\n",
            "Epoch 12/100\n",
            "16/16 [==============================] - 1s 54ms/step - loss: 0.5556 - accuracy: 0.8548\n",
            "Epoch 13/100\n",
            "16/16 [==============================] - 1s 55ms/step - loss: 0.5385 - accuracy: 0.8037\n",
            "Epoch 14/100\n",
            "16/16 [==============================] - 1s 54ms/step - loss: 0.5172 - accuracy: 0.8139\n",
            "Epoch 15/100\n",
            "16/16 [==============================] - 1s 53ms/step - loss: 0.5041 - accuracy: 0.8241\n",
            "Epoch 16/100\n",
            "16/16 [==============================] - 1s 53ms/step - loss: 0.4915 - accuracy: 0.8139\n",
            "Epoch 17/100\n",
            "16/16 [==============================] - 1s 54ms/step - loss: 0.4828 - accuracy: 0.7955\n",
            "Epoch 18/100\n",
            "16/16 [==============================] - 1s 54ms/step - loss: 0.4756 - accuracy: 0.7975\n",
            "Epoch 19/100\n",
            "16/16 [==============================] - 1s 54ms/step - loss: 0.4481 - accuracy: 0.8282\n",
            "Epoch 20/100\n",
            "16/16 [==============================] - 1s 53ms/step - loss: 0.4432 - accuracy: 0.7791\n",
            "Epoch 21/100\n",
            "16/16 [==============================] - 1s 52ms/step - loss: 0.4312 - accuracy: 0.8139\n",
            "Epoch 22/100\n",
            "16/16 [==============================] - 1s 53ms/step - loss: 0.4313 - accuracy: 0.7812\n",
            "Epoch 23/100\n",
            "16/16 [==============================] - 1s 54ms/step - loss: 0.4175 - accuracy: 0.7873\n",
            "Epoch 24/100\n",
            "16/16 [==============================] - 1s 54ms/step - loss: 0.4057 - accuracy: 0.8323\n",
            "Epoch 25/100\n",
            "16/16 [==============================] - 1s 54ms/step - loss: 0.4220 - accuracy: 0.7832\n",
            "Epoch 26/100\n",
            "16/16 [==============================] - 1s 55ms/step - loss: 0.4147 - accuracy: 0.7914\n",
            "Epoch 27/100\n",
            "16/16 [==============================] - 1s 53ms/step - loss: 0.4012 - accuracy: 0.7444\n",
            "Epoch 28/100\n",
            "16/16 [==============================] - 1s 53ms/step - loss: 0.3905 - accuracy: 0.8139\n",
            "Epoch 29/100\n",
            "16/16 [==============================] - 1s 53ms/step - loss: 0.3854 - accuracy: 0.7464\n",
            "Epoch 30/100\n",
            "16/16 [==============================] - 1s 53ms/step - loss: 0.3877 - accuracy: 0.7423\n",
            "Epoch 31/100\n",
            "16/16 [==============================] - 1s 54ms/step - loss: 0.3875 - accuracy: 0.7628\n",
            "Epoch 32/100\n",
            "16/16 [==============================] - 1s 54ms/step - loss: 0.3841 - accuracy: 0.8180\n",
            "Epoch 33/100\n",
            "16/16 [==============================] - 1s 54ms/step - loss: 0.3853 - accuracy: 0.7301\n",
            "Epoch 34/100\n",
            "16/16 [==============================] - 1s 53ms/step - loss: 0.3855 - accuracy: 0.8057\n",
            "Epoch 35/100\n",
            "16/16 [==============================] - 1s 54ms/step - loss: 0.3766 - accuracy: 0.7812\n",
            "Epoch 36/100\n",
            "16/16 [==============================] - 1s 55ms/step - loss: 0.3733 - accuracy: 0.7219\n",
            "Epoch 37/100\n",
            "16/16 [==============================] - 1s 55ms/step - loss: 0.3720 - accuracy: 0.7812\n",
            "Epoch 38/100\n",
            "16/16 [==============================] - 1s 59ms/step - loss: 0.3697 - accuracy: 0.7730\n",
            "Epoch 39/100\n",
            "16/16 [==============================] - 1s 56ms/step - loss: 0.3694 - accuracy: 0.7382\n",
            "Epoch 40/100\n",
            "16/16 [==============================] - 1s 56ms/step - loss: 0.3679 - accuracy: 0.7566\n",
            "Epoch 41/100\n",
            "16/16 [==============================] - 1s 53ms/step - loss: 0.3683 - accuracy: 0.7791\n",
            "Epoch 42/100\n",
            "16/16 [==============================] - 1s 55ms/step - loss: 0.3732 - accuracy: 0.6605\n",
            "Epoch 43/100\n",
            "16/16 [==============================] - 1s 54ms/step - loss: 0.3712 - accuracy: 0.7853\n",
            "Epoch 44/100\n",
            "16/16 [==============================] - 1s 53ms/step - loss: 0.3763 - accuracy: 0.7832\n",
            "Epoch 45/100\n",
            "16/16 [==============================] - 1s 54ms/step - loss: 0.3697 - accuracy: 0.7566\n",
            "Epoch 46/100\n",
            "16/16 [==============================] - 1s 53ms/step - loss: 0.3686 - accuracy: 0.7526\n",
            "Epoch 47/100\n",
            "16/16 [==============================] - 1s 53ms/step - loss: 0.3662 - accuracy: 0.7444\n",
            "Epoch 48/100\n",
            "16/16 [==============================] - 1s 53ms/step - loss: 0.3677 - accuracy: 0.7382\n",
            "Epoch 49/100\n",
            "16/16 [==============================] - 1s 57ms/step - loss: 0.3668 - accuracy: 0.7566\n",
            "Epoch 50/100\n",
            "16/16 [==============================] - 1s 57ms/step - loss: 0.3673 - accuracy: 0.7157\n",
            "Epoch 51/100\n",
            "16/16 [==============================] - 1s 55ms/step - loss: 0.3670 - accuracy: 0.7587\n",
            "Epoch 52/100\n",
            "16/16 [==============================] - 1s 53ms/step - loss: 0.3637 - accuracy: 0.7505\n",
            "Epoch 53/100\n",
            "16/16 [==============================] - 1s 55ms/step - loss: 0.3630 - accuracy: 0.7362\n",
            "Epoch 54/100\n",
            "16/16 [==============================] - 1s 54ms/step - loss: 0.3618 - accuracy: 0.7669\n",
            "Epoch 55/100\n",
            "16/16 [==============================] - 1s 53ms/step - loss: 0.3615 - accuracy: 0.7546\n",
            "Epoch 56/100\n",
            "16/16 [==============================] - 1s 54ms/step - loss: 0.3623 - accuracy: 0.7137\n",
            "Epoch 57/100\n",
            "16/16 [==============================] - 1s 55ms/step - loss: 0.3627 - accuracy: 0.7669\n",
            "Epoch 58/100\n",
            "16/16 [==============================] - 1s 54ms/step - loss: 0.3622 - accuracy: 0.7423\n",
            "Epoch 59/100\n",
            "16/16 [==============================] - 1s 54ms/step - loss: 0.3618 - accuracy: 0.7239\n",
            "Epoch 60/100\n",
            "16/16 [==============================] - 1s 55ms/step - loss: 0.3616 - accuracy: 0.7423\n",
            "Epoch 61/100\n",
            "16/16 [==============================] - 1s 53ms/step - loss: 0.3615 - accuracy: 0.7587\n",
            "Epoch 62/100\n",
            "16/16 [==============================] - 1s 55ms/step - loss: 0.3619 - accuracy: 0.6892\n",
            "Epoch 63/100\n",
            "16/16 [==============================] - 1s 53ms/step - loss: 0.3627 - accuracy: 0.7628\n",
            "Epoch 64/100\n",
            "16/16 [==============================] - 1s 54ms/step - loss: 0.3618 - accuracy: 0.7566\n",
            "Epoch 65/100\n",
            "16/16 [==============================] - 1s 56ms/step - loss: 0.3608 - accuracy: 0.7648\n",
            "Epoch 66/100\n",
            "16/16 [==============================] - 1s 54ms/step - loss: 0.3606 - accuracy: 0.7648\n",
            "Epoch 67/100\n",
            "16/16 [==============================] - 1s 55ms/step - loss: 0.3607 - accuracy: 0.7035\n",
            "Epoch 68/100\n",
            "16/16 [==============================] - 1s 53ms/step - loss: 0.3614 - accuracy: 0.7485\n",
            "Epoch 69/100\n",
            "16/16 [==============================] - 1s 54ms/step - loss: 0.3634 - accuracy: 0.7096\n",
            "Epoch 70/100\n",
            "16/16 [==============================] - 1s 53ms/step - loss: 0.3629 - accuracy: 0.7894\n",
            "Epoch 71/100\n",
            "16/16 [==============================] - 1s 54ms/step - loss: 0.3620 - accuracy: 0.7362\n",
            "Epoch 72/100\n",
            "16/16 [==============================] - 1s 54ms/step - loss: 0.3616 - accuracy: 0.7648\n",
            "Epoch 73/100\n",
            "16/16 [==============================] - 1s 55ms/step - loss: 0.3613 - accuracy: 0.7546\n",
            "Epoch 74/100\n",
            "16/16 [==============================] - 1s 55ms/step - loss: 0.3636 - accuracy: 0.7280\n",
            "Epoch 75/100\n",
            "16/16 [==============================] - 1s 53ms/step - loss: 0.3622 - accuracy: 0.7607\n",
            "Epoch 76/100\n",
            "16/16 [==============================] - 1s 53ms/step - loss: 0.3616 - accuracy: 0.7403\n",
            "Epoch 77/100\n",
            "16/16 [==============================] - 1s 55ms/step - loss: 0.3608 - accuracy: 0.7382\n",
            "Epoch 78/100\n",
            "16/16 [==============================] - 1s 54ms/step - loss: 0.3605 - accuracy: 0.7464\n",
            "Epoch 79/100\n",
            "16/16 [==============================] - 1s 54ms/step - loss: 0.3607 - accuracy: 0.7485\n",
            "Epoch 80/100\n",
            "16/16 [==============================] - 1s 54ms/step - loss: 0.3614 - accuracy: 0.7607\n",
            "Epoch 81/100\n",
            "16/16 [==============================] - 1s 54ms/step - loss: 0.3612 - accuracy: 0.7505\n",
            "Epoch 82/100\n",
            "16/16 [==============================] - 1s 54ms/step - loss: 0.3609 - accuracy: 0.7014\n",
            "Epoch 83/100\n",
            "16/16 [==============================] - 1s 54ms/step - loss: 0.3605 - accuracy: 0.7791\n",
            "Epoch 84/100\n",
            "16/16 [==============================] - 1s 53ms/step - loss: 0.3604 - accuracy: 0.7342\n",
            "Epoch 85/100\n",
            "16/16 [==============================] - 1s 53ms/step - loss: 0.3604 - accuracy: 0.7628\n",
            "Epoch 86/100\n",
            "16/16 [==============================] - 1s 55ms/step - loss: 0.3604 - accuracy: 0.7485\n",
            "Epoch 87/100\n",
            "16/16 [==============================] - 1s 54ms/step - loss: 0.3607 - accuracy: 0.7444\n",
            "Epoch 88/100\n",
            "16/16 [==============================] - 1s 54ms/step - loss: 0.3645 - accuracy: 0.7301\n",
            "Epoch 89/100\n",
            "16/16 [==============================] - 1s 55ms/step - loss: 0.3625 - accuracy: 0.7342\n",
            "Epoch 90/100\n",
            "16/16 [==============================] - 1s 55ms/step - loss: 0.3618 - accuracy: 0.7342\n",
            "Epoch 91/100\n",
            "16/16 [==============================] - 1s 53ms/step - loss: 0.3608 - accuracy: 0.7239\n",
            "Epoch 92/100\n",
            "16/16 [==============================] - 1s 54ms/step - loss: 0.3602 - accuracy: 0.7669\n",
            "Epoch 93/100\n",
            "16/16 [==============================] - 1s 55ms/step - loss: 0.3603 - accuracy: 0.7689\n",
            "Epoch 94/100\n",
            "16/16 [==============================] - 1s 53ms/step - loss: 0.3601 - accuracy: 0.7607\n",
            "Epoch 95/100\n",
            "16/16 [==============================] - 1s 53ms/step - loss: 0.3603 - accuracy: 0.7444\n",
            "Epoch 96/100\n",
            "16/16 [==============================] - 1s 53ms/step - loss: 0.3604 - accuracy: 0.7280\n",
            "Epoch 97/100\n",
            "16/16 [==============================] - 1s 53ms/step - loss: 0.3604 - accuracy: 0.7260\n",
            "Epoch 98/100\n",
            "16/16 [==============================] - 1s 55ms/step - loss: 0.3603 - accuracy: 0.7342\n",
            "Epoch 99/100\n",
            "16/16 [==============================] - 1s 53ms/step - loss: 0.3601 - accuracy: 0.7607\n",
            "Epoch 100/100\n",
            "16/16 [==============================] - 1s 52ms/step - loss: 0.3603 - accuracy: 0.7055\n"
          ]
        },
        {
          "output_type": "execute_result",
          "data": {
            "text/plain": [
              "<keras.callbacks.History at 0x7f92f143d050>"
            ]
          },
          "metadata": {},
          "execution_count": 15
        }
      ]
    },
    {
      "cell_type": "code",
      "source": [
        "test_df=testData\n",
        "print(test_df.label.value_counts())\n",
        "max_length = get_max_length(test_df)\n",
        "test_X, test_Y = preprocess(test_df)\n",
        "\n",
        "score, acc = model.evaluate(test_X, test_Y, verbose=2)\n",
        "print('Test score:', score)\n",
        "print('Test accuracy:', acc)"
      ],
      "metadata": {
        "colab": {
          "base_uri": "https://localhost:8080/"
        },
        "id": "_lb9dxHcvo0G",
        "outputId": "df7958f4-e619-4fd9-81e9-6e4b3b197e4c"
      },
      "execution_count": 16,
      "outputs": [
        {
          "output_type": "stream",
          "name": "stdout",
          "text": [
            "positive    1038\n",
            "neutral      987\n",
            "negative     365\n",
            "Name: label, dtype: int64\n",
            "75/75 - 2s - loss: 1.3766 - accuracy: 0.6661 - 2s/epoch - 21ms/step\n",
            "Test score: 1.3765665292739868\n",
            "Test accuracy: 0.6661087870597839\n"
          ]
        }
      ]
    }
  ]
}